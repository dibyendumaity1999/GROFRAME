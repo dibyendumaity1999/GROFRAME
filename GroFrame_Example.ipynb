{
 "cells": [
  {
   "cell_type": "code",
   "execution_count": 1,
   "id": "924418de-f281-49dc-aa58-84f0cc3c92b7",
   "metadata": {},
   "outputs": [],
   "source": [
    "from GROFRAME import GROFRAME"
   ]
  },
  {
   "cell_type": "code",
   "execution_count": 2,
   "id": "3de0f7f9-b48a-4ce0-99ca-8658dfe39b05",
   "metadata": {},
   "outputs": [],
   "source": [
    "import numpy as np\n",
    "import matplotlib.pyplot as plt"
   ]
  },
  {
   "cell_type": "code",
   "execution_count": 38,
   "id": "0270adbc-eb5a-47c3-bd84-83f61b69d95b",
   "metadata": {},
   "outputs": [],
   "source": [
    "import numpy as np\n",
    "import pandas as pd\n",
    "\n",
    "class GRO:\n",
    "    import numpy as np\n",
    "    import pandas as pd\n",
    "    def __init__(self, fname):\n",
    "        self.fname = fname\n",
    "        self.all_lines = open(self.fname, encoding = \"utf-8\").readlines()\n",
    "        length = len(self.all_lines)\n",
    "        if int(self.all_lines[1]) != (length - 3):\n",
    "            print(\"Number of atoms mismatch!!\")\n",
    "        self.dimension = np.array(self.all_lines[-1].split(), dtype = float)\n",
    "    def make_line(self,i):\n",
    "        Line = self.all_lines[i]\n",
    "        mLine = self.getLine(Line)\n",
    "        mDict = {\"rid\" : mLine[0], \"resname\" : mLine[1], \"name\" : mLine[2],\n",
    "                 \"id\" : mLine[3], \"x\" : mLine[4], \"y\" : mLine[5], \"z\" : mLine[6]}\n",
    "        return mDict\n",
    "    def getLine(self,Line):\n",
    "        rid = Line[:5].strip()\n",
    "        resname = Line[5:10].strip()\n",
    "        nname = Line[10:15].strip()\n",
    "        nid = Line[15:20].strip()\n",
    "        x = Line[20:28].strip()\n",
    "        y = Line[28:36].strip()\n",
    "        z = Line[36:44].strip()\n",
    "        return rid, resname, nname, nid, x, y, z\n",
    "    def makeDataFrame(self):\n",
    "        totalAtomNumber = int(self.all_lines[1])\n",
    "        #print(totalAtomNumber)\n",
    "        #df = pd.DataFrame({\"rid\" : 0, \"resname\" : 1, \"name\" : 2,\n",
    "        #         \"id\" : 3, \"x\" : 4, \"y\" : 5, \"z\" : 6}, index = [0])\n",
    "        Lines = self.all_lines[2:-1]\n",
    "        rid = np.array([self.getLine(Lines[i])[0] for i in range(totalAtomNumber)], dtype = int)\n",
    "        resname = np.array([self.getLine(Lines[i])[1] for i in range(totalAtomNumber)], dtype = str)\n",
    "        name = np.array([self.getLine(Lines[i])[2] for i in range(totalAtomNumber)], dtype = str)\n",
    "        nid = np.array([self.getLine(Lines[i])[3] for i in range(totalAtomNumber)], dtype = int)\n",
    "        x = np.array([self.getLine(Lines[i])[4] for i in range(totalAtomNumber)], dtype = float)\n",
    "        y = np.array([self.getLine(Lines[i])[5] for i in range(totalAtomNumber)], dtype = float)\n",
    "        z = np.array([self.getLine(Lines[i])[6] for i in range(totalAtomNumber)],dtype = float)\n",
    "        df = pd.DataFrame({\"rid\" : rid, \"resname\" : resname, \"name\" : name,\n",
    "                 \"id\" :nid , \"x\" : x, \"y\" : y, \"z\" : z})\n",
    "        return df\n",
    "    def oneLine(self, rid, resname, nname, nid, x, y, z):\n",
    "        a = str(rid).rjust(5)\n",
    "        b = str(resname).ljust(5)\n",
    "        c = str(nname).rjust(5)\n",
    "        d = str(nid).rjust(5)\n",
    "        x = str(x).rjust(8)\n",
    "        y = str(y).rjust(8)\n",
    "        z = str(z).rjust(8)\n",
    "        return a+b+c+d+x+y+z\n",
    "    \n",
    "    def df2gro(self, clean_df, fname = \"Some_file.gro\"):\n",
    "        clean_file = open(fname, \"w\")\n",
    "        clean_file.write(\"Cleaned using groframe! \\n\")\n",
    "        clean_file.write(f\" {len(clean_df)}\\n\")\n",
    "        for i in range(len(clean_df)):\n",
    "            string = self.oneLine(*clean_df.iloc[i])\n",
    "            clean_file.write(string + \"\\n\")\n",
    "        clean_file.write(self.all_lines[-1] + \"\\n\")\n",
    "        clean_file.close()\n",
    "        return \"Success!\"\n"
   ]
  },
  {
   "cell_type": "code",
   "execution_count": 39,
   "id": "c6f8e1f7-46a9-44b4-acff-f7d9cf58627e",
   "metadata": {},
   "outputs": [],
   "source": [
    "frame3 = GRO(\"Sol_Box_3.gro\")"
   ]
  },
  {
   "cell_type": "code",
   "execution_count": 40,
   "id": "8372f3de-cf46-4f25-8534-ee27431fbf31",
   "metadata": {},
   "outputs": [],
   "source": [
    "frame2 = GRO(\"Sol_Box_2.gro\")\n",
    "frame1 = GRO(\"Sol_Box_1.gro\")"
   ]
  },
  {
   "cell_type": "code",
   "execution_count": 41,
   "id": "21aa8e5b-fe45-461f-b415-952107fb09be",
   "metadata": {},
   "outputs": [],
   "source": [
    "df3 = frame3.makeDataFrame()\n",
    "df2 = frame2.makeDataFrame()\n",
    "df1 = frame1.makeDataFrame()"
   ]
  },
  {
   "cell_type": "code",
   "execution_count": null,
   "id": "df1c04a7-46ef-4a38-b022-224b3a8d0372",
   "metadata": {},
   "outputs": [],
   "source": []
  },
  {
   "cell_type": "code",
   "execution_count": 48,
   "id": "76fc70f6-447a-4f1a-b3fe-9a20950cf72e",
   "metadata": {},
   "outputs": [
    {
     "data": {
      "text/plain": [
       "(4.811, 9.641)"
      ]
     },
     "execution_count": 48,
     "metadata": {},
     "output_type": "execute_result"
    }
   ],
   "source": [
    "df1[df1.resname == \"ICE\"].z.min(), df1[df1.resname == \"ICE\"].z.max() "
   ]
  },
  {
   "cell_type": "code",
   "execution_count": 50,
   "id": "7061c1f7-4da8-4dfa-8cb3-8169d239ca95",
   "metadata": {},
   "outputs": [],
   "source": [
    "rids1 = df1[df1.resname==\"SOL\"][((df1[df1.resname == \"SOL\"].z > 4.811).values * (df1[df1.resname == \"SOL\"].z < 9.641).values)].rid.unique()\n",
    "rids2 = df2[df2.resname==\"SOL\"][((df2[df2.resname == \"SOL\"].z > 4.811).values * (df2[df2.resname == \"SOL\"].z < 9.641).values)].rid.unique()\n",
    "rids3 = df3[df3.resname==\"SOL\"][((df3[df3.resname == \"SOL\"].z > 4.811).values * (df3[df3.resname == \"SOL\"].z < 9.641).values)].rid.unique()"
   ]
  },
  {
   "cell_type": "code",
   "execution_count": 51,
   "id": "4255543a-8114-47ac-87b1-91c24c958726",
   "metadata": {},
   "outputs": [],
   "source": [
    "clean_df1 = df1[~df1.rid.isin(rids1)]\n",
    "clean_df2 = df2[~df2.rid.isin(rids2)]\n",
    "clean_df3 = df3[~df3.rid.isin(rids3)]"
   ]
  },
  {
   "cell_type": "code",
   "execution_count": 55,
   "id": "81e5a732-e8d9-4106-a1ec-677127a163b1",
   "metadata": {},
   "outputs": [
    {
     "data": {
      "text/plain": [
       "'Success!'"
      ]
     },
     "execution_count": 55,
     "metadata": {},
     "output_type": "execute_result"
    }
   ],
   "source": [
    "frame3.df2gro(clean_df1, fname = \"Cleaned_Box_3.gro\")\n",
    "frame2.df2gro(clean_df2, fname = \"Cleaned_Box_2.gro\")\n",
    "frame1.df2gro(clean_df3, fname = \"Cleaned_Box_1.gro\")"
   ]
  },
  {
   "cell_type": "code",
   "execution_count": 54,
   "id": "e304cd0e-aaed-4f73-a0f3-b587252c8403",
   "metadata": {},
   "outputs": [
    {
     "data": {
      "text/html": [
       "<div>\n",
       "<style scoped>\n",
       "    .dataframe tbody tr th:only-of-type {\n",
       "        vertical-align: middle;\n",
       "    }\n",
       "\n",
       "    .dataframe tbody tr th {\n",
       "        vertical-align: top;\n",
       "    }\n",
       "\n",
       "    .dataframe thead th {\n",
       "        text-align: right;\n",
       "    }\n",
       "</style>\n",
       "<table border=\"1\" class=\"dataframe\">\n",
       "  <thead>\n",
       "    <tr style=\"text-align: right;\">\n",
       "      <th></th>\n",
       "      <th>rid</th>\n",
       "      <th>resname</th>\n",
       "      <th>name</th>\n",
       "      <th>id</th>\n",
       "      <th>x</th>\n",
       "      <th>y</th>\n",
       "      <th>z</th>\n",
       "    </tr>\n",
       "  </thead>\n",
       "  <tbody>\n",
       "    <tr>\n",
       "      <th>0</th>\n",
       "      <td>1</td>\n",
       "      <td>ICE</td>\n",
       "      <td>OW</td>\n",
       "      <td>1</td>\n",
       "      <td>1.142</td>\n",
       "      <td>0.460</td>\n",
       "      <td>4.883</td>\n",
       "    </tr>\n",
       "    <tr>\n",
       "      <th>1</th>\n",
       "      <td>1</td>\n",
       "      <td>ICE</td>\n",
       "      <td>HW1</td>\n",
       "      <td>2</td>\n",
       "      <td>1.238</td>\n",
       "      <td>0.459</td>\n",
       "      <td>4.884</td>\n",
       "    </tr>\n",
       "    <tr>\n",
       "      <th>2</th>\n",
       "      <td>1</td>\n",
       "      <td>ICE</td>\n",
       "      <td>HW2</td>\n",
       "      <td>3</td>\n",
       "      <td>1.116</td>\n",
       "      <td>0.407</td>\n",
       "      <td>4.958</td>\n",
       "    </tr>\n",
       "    <tr>\n",
       "      <th>3</th>\n",
       "      <td>1</td>\n",
       "      <td>ICE</td>\n",
       "      <td>MW</td>\n",
       "      <td>4</td>\n",
       "      <td>1.151</td>\n",
       "      <td>0.453</td>\n",
       "      <td>4.893</td>\n",
       "    </tr>\n",
       "    <tr>\n",
       "      <th>4</th>\n",
       "      <td>2</td>\n",
       "      <td>ICE</td>\n",
       "      <td>OW</td>\n",
       "      <td>5</td>\n",
       "      <td>0.455</td>\n",
       "      <td>0.089</td>\n",
       "      <td>5.022</td>\n",
       "    </tr>\n",
       "    <tr>\n",
       "      <th>...</th>\n",
       "      <td>...</td>\n",
       "      <td>...</td>\n",
       "      <td>...</td>\n",
       "      <td>...</td>\n",
       "      <td>...</td>\n",
       "      <td>...</td>\n",
       "      <td>...</td>\n",
       "    </tr>\n",
       "    <tr>\n",
       "      <th>40947</th>\n",
       "      <td>10996</td>\n",
       "      <td>SOL</td>\n",
       "      <td>MW</td>\n",
       "      <td>40948</td>\n",
       "      <td>4.043</td>\n",
       "      <td>3.864</td>\n",
       "      <td>13.248</td>\n",
       "    </tr>\n",
       "    <tr>\n",
       "      <th>40948</th>\n",
       "      <td>10997</td>\n",
       "      <td>SOL</td>\n",
       "      <td>OW</td>\n",
       "      <td>40949</td>\n",
       "      <td>3.803</td>\n",
       "      <td>3.961</td>\n",
       "      <td>13.111</td>\n",
       "    </tr>\n",
       "    <tr>\n",
       "      <th>40949</th>\n",
       "      <td>10997</td>\n",
       "      <td>SOL</td>\n",
       "      <td>HW1</td>\n",
       "      <td>40950</td>\n",
       "      <td>3.770</td>\n",
       "      <td>4.040</td>\n",
       "      <td>13.155</td>\n",
       "    </tr>\n",
       "    <tr>\n",
       "      <th>40950</th>\n",
       "      <td>10997</td>\n",
       "      <td>SOL</td>\n",
       "      <td>HW2</td>\n",
       "      <td>40951</td>\n",
       "      <td>3.858</td>\n",
       "      <td>3.994</td>\n",
       "      <td>13.040</td>\n",
       "    </tr>\n",
       "    <tr>\n",
       "      <th>40951</th>\n",
       "      <td>10997</td>\n",
       "      <td>SOL</td>\n",
       "      <td>MW</td>\n",
       "      <td>40952</td>\n",
       "      <td>3.806</td>\n",
       "      <td>3.975</td>\n",
       "      <td>13.108</td>\n",
       "    </tr>\n",
       "  </tbody>\n",
       "</table>\n",
       "<p>39536 rows × 7 columns</p>\n",
       "</div>"
      ],
      "text/plain": [
       "         rid resname name     id      x      y       z\n",
       "0          1     ICE   OW      1  1.142  0.460   4.883\n",
       "1          1     ICE  HW1      2  1.238  0.459   4.884\n",
       "2          1     ICE  HW2      3  1.116  0.407   4.958\n",
       "3          1     ICE   MW      4  1.151  0.453   4.893\n",
       "4          2     ICE   OW      5  0.455  0.089   5.022\n",
       "...      ...     ...  ...    ...    ...    ...     ...\n",
       "40947  10996     SOL   MW  40948  4.043  3.864  13.248\n",
       "40948  10997     SOL   OW  40949  3.803  3.961  13.111\n",
       "40949  10997     SOL  HW1  40950  3.770  4.040  13.155\n",
       "40950  10997     SOL  HW2  40951  3.858  3.994  13.040\n",
       "40951  10997     SOL   MW  40952  3.806  3.975  13.108\n",
       "\n",
       "[39536 rows x 7 columns]"
      ]
     },
     "execution_count": 54,
     "metadata": {},
     "output_type": "execute_result"
    }
   ],
   "source": [
    "clean_df3"
   ]
  },
  {
   "cell_type": "code",
   "execution_count": null,
   "id": "a4f32691-a197-4784-8447-ee09583c652d",
   "metadata": {},
   "outputs": [],
   "source": []
  }
 ],
 "metadata": {
  "kernelspec": {
   "display_name": "Python 3 (ipykernel)",
   "language": "python",
   "name": "python3"
  },
  "language_info": {
   "codemirror_mode": {
    "name": "ipython",
    "version": 3
   },
   "file_extension": ".py",
   "mimetype": "text/x-python",
   "name": "python",
   "nbconvert_exporter": "python",
   "pygments_lexer": "ipython3",
   "version": "3.9.7"
  }
 },
 "nbformat": 4,
 "nbformat_minor": 5
}
